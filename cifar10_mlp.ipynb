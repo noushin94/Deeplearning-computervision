{
  "nbformat": 4,
  "nbformat_minor": 0,
  "metadata": {
    "colab": {
      "provenance": [],
      "authorship_tag": "ABX9TyMmwioLk0TYV9incncuaRWU",
      "include_colab_link": true
    },
    "kernelspec": {
      "name": "python3",
      "display_name": "Python 3"
    },
    "language_info": {
      "name": "python"
    }
  },
  "cells": [
    {
      "cell_type": "markdown",
      "metadata": {
        "id": "view-in-github",
        "colab_type": "text"
      },
      "source": [
        "<a href=\"https://colab.research.google.com/github/noushin94/myExercising/blob/Tdata/cifar10_mlp.ipynb\" target=\"_parent\"><img src=\"https://colab.research.google.com/assets/colab-badge.svg\" alt=\"Open In Colab\"/></a>"
      ]
    },
    {
      "cell_type": "code",
      "execution_count": 1,
      "metadata": {
        "id": "o1nvlbk70nmd"
      },
      "outputs": [],
      "source": [
        "from tensorflow.keras import layers, models\n",
        "from tensorflow.keras.datasets import cifar10\n",
        "import numpy as np\n",
        "import pandas as pd\n",
        "import matplotlib.pyplot as plt"
      ]
    },
    {
      "cell_type": "markdown",
      "source": [
        "**Loading cifar10**"
      ],
      "metadata": {
        "id": "Mja0ViY21bM2"
      }
    },
    {
      "cell_type": "code",
      "source": [
        "# the data dont nedd resize becouse they are already 32,32"
      ],
      "metadata": {
        "id": "vikoJ3Es1X3l"
      },
      "execution_count": null,
      "outputs": []
    },
    {
      "cell_type": "code",
      "source": [
        "def load_data_preprocessing():\n",
        "  (X_train, Y_train), (X_test, Y_test) = cifar10.load_data()\n",
        "  X_train, X_test = X_train/255.0, X_test/255.0\n",
        "\n",
        "  return  X_train, X_test , Y_train , Y_test"
      ],
      "metadata": {
        "id": "1i6He5xeCdag"
      },
      "execution_count": 20,
      "outputs": []
    },
    {
      "cell_type": "markdown",
      "source": [
        "**network**"
      ],
      "metadata": {
        "id": "4AHYGuAoDqj7"
      }
    },
    {
      "cell_type": "code",
      "source": [
        "def neural_network():\n",
        "\n",
        "    #creating the network\n",
        "      net = models.Sequential([\n",
        "                         layers.Flatten(),\n",
        "                         layers.Dense(400, activation = \"relu\"),\n",
        "                         layers.Dense(200, activation = \"relu\"),\n",
        "                         layers.Dense(80, activation= \"relu\"),\n",
        "                         layers.Dense(10, activation = \"softmax\")\n",
        "\n",
        "\n",
        "          ])\n",
        "\n",
        "\n",
        "  # compiling\n",
        "\n",
        "      net.compile(optimizer= \"SGD\",\n",
        "            metrics = [\"accuracy\"],\n",
        "            loss = \"sparse_categorical_crossentropy\"\n",
        "         )\n",
        "      return net"
      ],
      "metadata": {
        "id": "VefsiiuZCiXL"
      },
      "execution_count": 12,
      "outputs": []
    },
    {
      "cell_type": "code",
      "source": [
        "def show_result():\n",
        "  plt.plot(H.history[\"accuracy\"], label = \"train accurcy\")\n",
        "  plt.plot(H.history[\"val_accuracy\"], label = \"test accurcy\")\n",
        "  plt.plot(H.history[\"loss\"], label = \"train loss\")\n",
        "  plt.plot(H.history[\"val_loss\"], label = \"test loss\")\n",
        "  plt.xlabel(\"epochs\")\n",
        "  plt.ylabel(\"accuracy/loss\")\n",
        "  plt.title(\"cifar classification\")\n",
        "  plt.legend()\n",
        "  plt.show()\n",
        "  pass"
      ],
      "metadata": {
        "id": "__NH3aEKCni7"
      },
      "execution_count": 13,
      "outputs": []
    },
    {
      "cell_type": "code",
      "source": [
        "#flattening\n",
        "#we do it in the network with a layers that flatten the data"
      ],
      "metadata": {
        "id": "an6GnbAL1veU"
      },
      "execution_count": null,
      "outputs": []
    },
    {
      "cell_type": "code",
      "source": [
        "#one_hot\n",
        "# we dont do that here as well because we want. to do it in compile with sparse_categoricalentropy"
      ],
      "metadata": {
        "id": "kT7qPQVv26OU"
      },
      "execution_count": null,
      "outputs": []
    },
    {
      "cell_type": "code",
      "source": [
        "X_train, X_test , Y_train , Y_test = load_data_preprocessing()"
      ],
      "metadata": {
        "id": "g_iRvDDREQ1i"
      },
      "execution_count": 21,
      "outputs": []
    },
    {
      "cell_type": "code",
      "source": [
        "net = neural_network()"
      ],
      "metadata": {
        "id": "37KLaJXgEX8w"
      },
      "execution_count": 22,
      "outputs": []
    },
    {
      "cell_type": "code",
      "source": [
        "H = net.fit(X_train, Y_train , batch_size = 32 , validation_data = (X_test, Y_test), epochs = 15)"
      ],
      "metadata": {
        "colab": {
          "base_uri": "https://localhost:8080/"
        },
        "id": "Hh3BPnc93aFo",
        "outputId": "34983a07-914b-466a-8f6d-c32902c2b164"
      },
      "execution_count": 10,
      "outputs": [
        {
          "output_type": "stream",
          "name": "stdout",
          "text": [
            "Epoch 1/15\n",
            "1563/1563 [==============================] - 20s 13ms/step - loss: nan - accuracy: 0.1000 - val_loss: nan - val_accuracy: 0.1000\n",
            "Epoch 2/15\n",
            "1563/1563 [==============================] - 34s 22ms/step - loss: nan - accuracy: 0.1000 - val_loss: nan - val_accuracy: 0.1000\n",
            "Epoch 3/15\n",
            "1563/1563 [==============================] - 28s 18ms/step - loss: nan - accuracy: 0.1000 - val_loss: nan - val_accuracy: 0.1000\n",
            "Epoch 4/15\n",
            "1563/1563 [==============================] - 25s 16ms/step - loss: nan - accuracy: 0.1000 - val_loss: nan - val_accuracy: 0.1000\n",
            "Epoch 5/15\n",
            "1563/1563 [==============================] - 19s 12ms/step - loss: nan - accuracy: 0.1000 - val_loss: nan - val_accuracy: 0.1000\n",
            "Epoch 6/15\n",
            "1563/1563 [==============================] - 20s 13ms/step - loss: nan - accuracy: 0.1000 - val_loss: nan - val_accuracy: 0.1000\n",
            "Epoch 7/15\n",
            "1563/1563 [==============================] - 25s 16ms/step - loss: nan - accuracy: 0.1000 - val_loss: nan - val_accuracy: 0.1000\n",
            "Epoch 8/15\n",
            "1563/1563 [==============================] - 24s 16ms/step - loss: nan - accuracy: 0.1000 - val_loss: nan - val_accuracy: 0.1000\n",
            "Epoch 9/15\n",
            "1563/1563 [==============================] - 22s 14ms/step - loss: nan - accuracy: 0.1000 - val_loss: nan - val_accuracy: 0.1000\n",
            "Epoch 10/15\n",
            "1563/1563 [==============================] - 19s 12ms/step - loss: nan - accuracy: 0.1000 - val_loss: nan - val_accuracy: 0.1000\n",
            "Epoch 11/15\n",
            "1563/1563 [==============================] - 17s 11ms/step - loss: nan - accuracy: 0.1000 - val_loss: nan - val_accuracy: 0.1000\n",
            "Epoch 12/15\n",
            "1563/1563 [==============================] - 21s 13ms/step - loss: nan - accuracy: 0.1000 - val_loss: nan - val_accuracy: 0.1000\n",
            "Epoch 13/15\n",
            "1563/1563 [==============================] - 23s 14ms/step - loss: nan - accuracy: 0.1000 - val_loss: nan - val_accuracy: 0.1000\n",
            "Epoch 14/15\n",
            "1563/1563 [==============================] - 19s 12ms/step - loss: nan - accuracy: 0.1000 - val_loss: nan - val_accuracy: 0.1000\n",
            "Epoch 15/15\n",
            "1563/1563 [==============================] - 19s 12ms/step - loss: nan - accuracy: 0.1000 - val_loss: nan - val_accuracy: 0.1000\n"
          ]
        }
      ]
    },
    {
      "cell_type": "code",
      "source": [
        "show_result()"
      ],
      "metadata": {
        "colab": {
          "base_uri": "https://localhost:8080/",
          "height": 472
        },
        "id": "F7TLC3D9EtWA",
        "outputId": "5002cef3-4212-4ad7-f35e-e0d2578fe6b2"
      },
      "execution_count": 24,
      "outputs": [
        {
          "output_type": "display_data",
          "data": {
            "text/plain": [
              "<Figure size 640x480 with 1 Axes>"
            ],
            "image/png": "[encoded data removed]"
          },
          "metadata": {}
        }
      ]
    }
  ]
}