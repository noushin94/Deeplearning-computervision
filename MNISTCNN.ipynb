{
  "nbformat": 4,
  "nbformat_minor": 0,
  "metadata": {
    "colab": {
      "provenance": [],
      "authorship_tag": "ABX9TyMX3+SKYKWoo72M87psZApk",
      "include_colab_link": true
    },
    "kernelspec": {
      "name": "python3",
      "display_name": "Python 3"
    },
    "language_info": {
      "name": "python"
    }
  },
  "cells": [
    {
      "cell_type": "markdown",
      "metadata": {
        "id": "view-in-github",
        "colab_type": "text"
      },
      "source": [
        "<a href=\"https://colab.research.google.com/github/noushin94/myExercising/blob/main/MNISTCNN.ipynb\" target=\"_parent\"><img src=\"https://colab.research.google.com/assets/colab-badge.svg\" alt=\"Open In Colab\"/></a>"
      ]
    },
    {
      "cell_type": "code",
      "execution_count": 5,
      "metadata": {
        "id": "TN0NlWkns2tT"
      },
      "outputs": [],
      "source": [
        "import numpy as np\n",
        "import pandas as pd\n",
        "from tensorflow import keras\n",
        "import matplotlib.pyplot as plt\n",
        "from keras import models , layers\n",
        "from keras.datasets import mnist"
      ]
    },
    {
      "cell_type": "code",
      "source": [
        "def preprocessing_data():\n",
        "   (X_train, Y_train), (X_test, Y_test) = mnist.load_data()\n",
        "   X_train , X_test = X_train/255.0 , X_test/255.0\n",
        "   return X_train, X_test , Y_train, Y_test\n"
      ],
      "metadata": {
        "id": "fJ_Nk4Pqx4ck"
      },
      "execution_count": 20,
      "outputs": []
    },
    {
      "cell_type": "code",
      "source": [
        "def CNN_model():\n",
        "\n",
        "  net = models.Sequential([\n",
        "\n",
        "                           layers.Conv2D(32, (3,3), activation= \"relu\", input_shape = (28,28,1)),\n",
        "                           layers.MaxPooling2D((2,2)),\n",
        "                           layers.Conv2D(4, (3,3), activation= \"relu\"),\n",
        "                           layers.Flatten(),\n",
        "                           layers.Dense(10, activation= \"softmax\")\n",
        "\n",
        "\n",
        "\n",
        "\n",
        "  ])\n",
        "\n",
        "\n",
        "  net.compile( optimizer= \"SGD\",\n",
        "               metrics= [\"accuracy\"],\n",
        "               loss= \"sparse_categorical_crossentropy\"\n",
        "              )\n",
        "\n",
        "  return net"
      ],
      "metadata": {
        "id": "ZOXIbC9HyR70"
      },
      "execution_count": 15,
      "outputs": []
    },
    {
      "cell_type": "code",
      "source": [
        "def showing_result():\n",
        "\n",
        "  plt.plot(H.history[\"accuracy\"] , label= \"train accuracy\")\n",
        "  plt.plot(H.history[\"val_accuracy\"] , label= \"test accuracy\")\n",
        "  plt.plot(H.history[\"loss\"] , label= \"train loss\")\n",
        "  plt.plot(H.history[\"val_loss\"] , label= \"test loss\")\n",
        "  plt.xlabel(\"epochs\")\n",
        "  plt.ylabel(\"accuracy/loss\")\n",
        "  plt.title(\"CNN model for mnist\")\n",
        "  plt.legend()\n",
        "  plt.show()\n",
        "  pass"
      ],
      "metadata": {
        "id": "NaJGbROr5Rc9"
      },
      "execution_count": 29,
      "outputs": []
    },
    {
      "cell_type": "code",
      "source": [
        "X_train, X_test , Y_train, Y_test= preprocessing_data()"
      ],
      "metadata": {
        "id": "HR6xVMId1iaM"
      },
      "execution_count": 22,
      "outputs": []
    },
    {
      "cell_type": "code",
      "source": [
        "net = CNN_model()"
      ],
      "metadata": {
        "id": "WexMRUf_1v6Q"
      },
      "execution_count": 16,
      "outputs": []
    },
    {
      "cell_type": "code",
      "source": [
        "net.summary()"
      ],
      "metadata": {
        "colab": {
          "base_uri": "https://localhost:8080/"
        },
        "id": "bJwGnlCW2c8Q",
        "outputId": "23de5923-08ba-45c2-bed0-9ad9aac918db"
      },
      "execution_count": 17,
      "outputs": [
        {
          "output_type": "stream",
          "name": "stdout",
          "text": [
            "Model: \"sequential_1\"\n",
            "_________________________________________________________________\n",
            " Layer (type)                Output Shape              Param #   \n",
            "=================================================================\n",
            " conv2d_4 (Conv2D)           (None, 26, 26, 32)        320       \n",
            "                                                                 \n",
            " max_pooling2d (MaxPooling2  (None, 13, 13, 32)        0         \n",
            " D)                                                              \n",
            "                                                                 \n",
            " conv2d_5 (Conv2D)           (None, 11, 11, 4)         1156      \n",
            "                                                                 \n",
            " flatten_1 (Flatten)         (None, 484)               0         \n",
            "                                                                 \n",
            " dense_1 (Dense)             (None, 10)                4850      \n",
            "                                                                 \n",
            "=================================================================\n",
            "Total params: 6326 (24.71 KB)\n",
            "Trainable params: 6326 (24.71 KB)\n",
            "Non-trainable params: 0 (0.00 Byte)\n",
            "_________________________________________________________________\n"
          ]
        }
      ]
    },
    {
      "cell_type": "code",
      "source": [
        "H = net.fit(X_train, Y_train, batch_size= 32, validation_data= (X_test, Y_test), epochs = 10)"
      ],
      "metadata": {
        "colab": {
          "base_uri": "https://localhost:8080/"
        },
        "id": "JIG8GDE22iRU",
        "outputId": "65f56fc2-04c8-4beb-8f35-df143af87a97"
      },
      "execution_count": 23,
      "outputs": [
        {
          "output_type": "stream",
          "name": "stdout",
          "text": [
            "Epoch 1/10\n",
            "1875/1875 [==============================] - 39s 20ms/step - loss: 0.6099 - accuracy: 0.8143 - val_loss: 0.2637 - val_accuracy: 0.9233\n",
            "Epoch 2/10\n",
            "1875/1875 [==============================] - 38s 20ms/step - loss: 0.2329 - accuracy: 0.9318 - val_loss: 0.1816 - val_accuracy: 0.9480\n",
            "Epoch 3/10\n",
            "1875/1875 [==============================] - 37s 19ms/step - loss: 0.1750 - accuracy: 0.9488 - val_loss: 0.1424 - val_accuracy: 0.9575\n",
            "Epoch 4/10\n",
            "1875/1875 [==============================] - 36s 19ms/step - loss: 0.1462 - accuracy: 0.9574 - val_loss: 0.1259 - val_accuracy: 0.9629\n",
            "Epoch 5/10\n",
            "1875/1875 [==============================] - 37s 20ms/step - loss: 0.1286 - accuracy: 0.9621 - val_loss: 0.1112 - val_accuracy: 0.9664\n",
            "Epoch 6/10\n",
            "1875/1875 [==============================] - 37s 20ms/step - loss: 0.1155 - accuracy: 0.9658 - val_loss: 0.1004 - val_accuracy: 0.9686\n",
            "Epoch 7/10\n",
            "1875/1875 [==============================] - 37s 20ms/step - loss: 0.1051 - accuracy: 0.9691 - val_loss: 0.0873 - val_accuracy: 0.9723\n",
            "Epoch 8/10\n",
            "1875/1875 [==============================] - 36s 19ms/step - loss: 0.0964 - accuracy: 0.9717 - val_loss: 0.0909 - val_accuracy: 0.9704\n",
            "Epoch 9/10\n",
            "1875/1875 [==============================] - 36s 19ms/step - loss: 0.0895 - accuracy: 0.9735 - val_loss: 0.0756 - val_accuracy: 0.9757\n",
            "Epoch 10/10\n",
            "1875/1875 [==============================] - 35s 19ms/step - loss: 0.0837 - accuracy: 0.9754 - val_loss: 0.0852 - val_accuracy: 0.9734\n"
          ]
        }
      ]
    },
    {
      "cell_type": "code",
      "source": [
        "loss , accuracy = net.evaluate(X_test, Y_test)"
      ],
      "metadata": {
        "colab": {
          "base_uri": "https://localhost:8080/"
        },
        "id": "Qav3-Ibv4wVH",
        "outputId": "61b58147-280d-49bf-d367-c9b70517cd61"
      },
      "execution_count": 24,
      "outputs": [
        {
          "output_type": "stream",
          "name": "stdout",
          "text": [
            "313/313 [==============================] - 3s 8ms/step - loss: 0.0852 - accuracy: 0.9734\n"
          ]
        }
      ]
    },
    {
      "cell_type": "code",
      "source": [
        "showing_result()"
      ],
      "metadata": {
        "colab": {
          "base_uri": "https://localhost:8080/",
          "height": 472
        },
        "id": "PFqvLX1M5OWv",
        "outputId": "c5b3fc3f-b707-4ca2-9091-76138b42ce74"
      },
      "execution_count": 30,
      "outputs": [
        {
          "output_type": "display_data",
          "data": {
            "text/plain": [
              "<Figure size 640x480 with 1 Axes>"
            ],
            "image/png": "[encoded data removed]"
          },
          "metadata": {}
        }
      ]
    }
  ]
}